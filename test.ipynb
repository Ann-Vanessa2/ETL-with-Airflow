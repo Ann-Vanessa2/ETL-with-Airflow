{
 "cells": [
  {
   "cell_type": "code",
   "execution_count": 2,
   "metadata": {},
   "outputs": [
    {
     "name": "stdout",
     "output_type": "stream",
     "text": [
      "date                   object\n",
      "track_genre            object\n",
      "listen_count          float64\n",
      "avg_track_duration    float64\n",
      "popularity_index      float64\n",
      "most_popular_track     object\n",
      "dtype: object\n",
      "         date  track_genre  listen_count  avg_track_duration  \\\n",
      "0  2024-06-25     acoustic         360.0       216987.713889   \n",
      "1  2024-06-25     afrobeat         368.0       259237.461957   \n",
      "2  2024-06-25     alt-rock         379.0       239878.646438   \n",
      "3  2024-06-25  alternative         148.0       205637.209459   \n",
      "4  2024-06-25      ambient         363.0       231071.887052   \n",
      "\n",
      "   popularity_index      most_popular_track  \n",
      "0         41.955556  3CqV5uSdPvj5Ux3E8Idusc  \n",
      "1         25.122283  2yBjFF19OmukrC7deP7LfZ  \n",
      "2         36.266491  5vHLwhxxlGzmClMcxRRFPr  \n",
      "3         22.195946  340BPA00CljfaZLOnRHmz2  \n",
      "4         45.000000  7JGe5XiHmtJZ05qt9TYArV  \n"
     ]
    }
   ],
   "source": [
    "import pandas as pd\n",
    "\n",
    "df = pd.read_csv(\"daily_kpi.csv\")  # Adjust path\n",
    "print(df.dtypes)  # Check data types\n",
    "print(df.head())  # Preview data\n"
   ]
  },
  {
   "cell_type": "code",
   "execution_count": null,
   "metadata": {},
   "outputs": [],
   "source": []
  }
 ],
 "metadata": {
  "kernelspec": {
   "display_name": "base",
   "language": "python",
   "name": "python3"
  },
  "language_info": {
   "codemirror_mode": {
    "name": "ipython",
    "version": 3
   },
   "file_extension": ".py",
   "mimetype": "text/x-python",
   "name": "python",
   "nbconvert_exporter": "python",
   "pygments_lexer": "ipython3",
   "version": "3.12.7"
  }
 },
 "nbformat": 4,
 "nbformat_minor": 2
}
